{
 "cells": [
  {
   "cell_type": "markdown",
   "id": "edaa6165",
   "metadata": {},
   "source": [
    "# Impulse Mission Performance Analysis\n",
    "\n",
    "Aggregate one or more perf.csv files produced by mission execution and plot segment time/energy distributions."
   ]
  },
  {
   "cell_type": "code",
   "execution_count": null,
   "id": "3af865f8",
   "metadata": {},
   "outputs": [],
   "source": [
    "# Dependencies\n",
    "import pandas as pd\n",
    "import matplotlib.pyplot as plt\n",
    "from pathlib import Path\n",
    "\n",
    "def load_perf_csvs(paths):\n",
    "    frames = []\n",
    "    for p in paths:\n",
    "        df = pd.read_csv(p)\n",
    "        df['source'] = str(p)\n",
    "        frames.append(df)\n",
    "    return pd.concat(frames, ignore_index=True) if frames else pd.DataFrame()"
   ]
  },
  {
   "cell_type": "code",
   "execution_count": null,
   "id": "32241b4d",
   "metadata": {},
   "outputs": [],
   "source": [
    "# Configure input files (edit this list or drop CSVs into notebooks/ and glob)\n",
    "perf_files = sorted(Path('.').glob('**/perf.csv'))\n",
    "if not perf_files:\n",
    "    print('No perf.csv files found; set perf_files to a list of CSV paths.')\n",
    "perf_files"
   ]
  },
  {
   "cell_type": "code",
   "execution_count": null,
   "id": "eaa220e1",
   "metadata": {},
   "outputs": [],
   "source": [
    "# Load and inspect\n",
    "df = load_perf_csvs(perf_files)\n",
    "df.head() if not df.empty else df"
   ]
  },
  {
   "cell_type": "code",
   "execution_count": null,
   "id": "a4449fd6",
   "metadata": {},
   "outputs": [],
   "source": [
    "# Basic stats\n",
    "if not df.empty:\n",
    "    display(df.describe(include='all'))\n",
    "else:\n",
    "    print('Empty DataFrame.')"
   ]
  },
  {
   "cell_type": "code",
   "execution_count": null,
   "id": "5272413d",
   "metadata": {},
   "outputs": [],
   "source": [
    "# Distributions: segment_time and segment_energy\n",
    "if not df.empty:\n",
    "    fig, axes = plt.subplots(1, 2, figsize=(10, 4))\n",
    "    df['segment_time'].hist(ax=axes[0], bins=20)\n",
    "    axes[0].set_title('Segment Time (s)')\n",
    "    df['segment_energy'].hist(ax=axes[1], bins=20)\n",
    "    axes[1].set_title('Segment Energy (J)')\n",
    "    plt.tight_layout()\n",
    "else:\n",
    "    print('No data to plot.')"
   ]
  },
  {
   "cell_type": "code",
   "execution_count": null,
   "id": "1c3b5b57",
   "metadata": {},
   "outputs": [],
   "source": [
    "# Breakdown by kind\n",
    "if not df.empty:\n",
    "    ax = df.groupby('kind')['segment_time'].sum().plot(kind='bar', title='Total Segment Time by Kind')\n",
    "    plt.show()\n",
    "else:\n",
    "    print('No data to plot.')"
   ]
  }
 ],
 "metadata": {
  "language_info": {
   "name": "python"
  }
 },
 "nbformat": 4,
 "nbformat_minor": 5
}
